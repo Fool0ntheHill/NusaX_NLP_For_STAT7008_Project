{
 "cells": [
  {
   "cell_type": "markdown",
   "metadata": {},
   "source": [
    "if you have not download NusaX, use the following code\n"
   ]
  },
  {
   "cell_type": "code",
   "execution_count": null,
   "metadata": {},
   "outputs": [],
   "source": [
    "# grab the data first\n",
    "!git clone https://github.com/IndoNLP/nusax.git"
   ]
  },
  {
   "cell_type": "markdown",
   "metadata": {},
   "source": [
    "default dataset path = 'nusax/datasets/mt/' and 'nusax/datasets/sentiment/', which is for machine translation and sentiment analysis respectively.\n",
    "\n",
    "please do not change the directory name or the filepath, otherwise the code will not work."
   ]
  },
  {
   "cell_type": "code",
   "execution_count": null,
   "metadata": {},
   "outputs": [],
   "source": [
    "import pandas as pd\n",
    "from nltk import word_tokenize\n",
    "import nltk\n",
    "nltk.download('punkt')"
   ]
  },
  {
   "cell_type": "markdown",
   "metadata": {},
   "source": [
    "# Data loading for Machine Translation Task"
   ]
  },
  {
   "cell_type": "code",
   "execution_count": 60,
   "metadata": {},
   "outputs": [],
   "source": [
    "def load_mt_data(directory=\"nusax/datasets/mt/\"):\n",
    "    \"\"\"\n",
    "    Load machine translation data from NusaX dataset.\n",
    "    Returns training, validation, and testing data for each language separately.\n",
    "    \n",
    "    Returns:\n",
    "        dict: A dictionary with language keys ('indonesian', 'english', 'javanese').\n",
    "              Each key contains another dictionary with keys 'train', 'valid', and 'test'.\n",
    "              Each of these keys maps to a tuple of (tokenized_data, original_data), where:\n",
    "                  - tokenized_data: List of tokenized sentences in the corresponding language.\n",
    "                  - original_data: List of original sentences(in other words, not tokenized) in the corresponding language.\n",
    "    \n",
    "    Example usage:\n",
    "        mt_data = load_mt_data()\n",
    "        indonesian_train_data = mt_data['indonesian']['train']\n",
    "        english_valid_data = mt_data['english']['valid']\n",
    "        javanese_test_data = mt_data['javanese']['test']\n",
    "    \"\"\"\n",
    "    train_data = pd.read_csv(directory + \"train.csv\")\n",
    "    valid_data = pd.read_csv(directory + \"valid.csv\")\n",
    "    test_data = pd.read_csv(directory + \"test.csv\")\n",
    "\n",
    "    languages = [\"indonesian\", \"english\", \"javanese\"]\n",
    "    data = {}\n",
    "\n",
    "    for lang in languages:\n",
    "        xtrain = [\" \".join(word_tokenize(sent)) for sent in list(train_data[lang])]\n",
    "        xvalid = [\" \".join(word_tokenize(sent)) for sent in list(valid_data[lang])]\n",
    "        xtest = [\" \".join(word_tokenize(sent)) for sent in list(test_data[lang])]\n",
    "        ytrain = list(train_data[lang])\n",
    "        yvalid = list(valid_data[lang])\n",
    "        ytest = list(test_data[lang])\n",
    "\n",
    "        data[lang] = {\n",
    "            \"train\": (xtrain, ytrain),\n",
    "            \"valid\": (xvalid, yvalid),\n",
    "            \"test\": (xtest, ytest)\n",
    "        }\n",
    "\n",
    "    return data"
   ]
  },
  {
   "cell_type": "markdown",
   "metadata": {},
   "source": [
    "# Data loading for Sentiment Analysis Task"
   ]
  },
  {
   "cell_type": "code",
   "execution_count": 61,
   "metadata": {},
   "outputs": [],
   "source": [
    "def load_sentiment_data(directory=\"nusax/datasets/sentiment/\"):\n",
    "    \"\"\"\n",
    "    Load sentiment analysis data from NusaX dataset.\n",
    "    Returns training, validation, and testing data along with labels for each language.\n",
    "    \n",
    "    Returns:\n",
    "    dict: A dictionary with language keys ('indonesian', 'english', 'javanese').\n",
    "            Each key contains another dictionary with keys 'train', 'valid', and 'test'.\n",
    "            Each of these keys maps to a tuple of (tokenized_data, original_data), where:\n",
    "                - tokenized_data: List of tokenized sentences in the corresponding language.\n",
    "                - original_data: List of original sentences(in other words, not tokenized) in the corresponding language.\n",
    "    \n",
    "    Example usage:\n",
    "        sentiment_data = load_sentiment_data()\n",
    "        english_train_data = sentiment_data['english']['train']\n",
    "        indonesian_valid_data = sentiment_data['indonesian']['valid']\n",
    "        javanese_test_data = sentiment_data['javanese']['test']\n",
    "    \"\"\"\n",
    "    languages = [\"indonesian\", \"english\", \"javanese\"]\n",
    "    data = {}\n",
    "\n",
    "    for lang in languages:\n",
    "        lang_directory = directory + lang + \"/\"\n",
    "        train_df = pd.read_csv(lang_directory + \"train.csv\")\n",
    "        valid_df = pd.read_csv(lang_directory + \"valid.csv\")\n",
    "        test_df = pd.read_csv(lang_directory + \"test.csv\")\n",
    "\n",
    "        xtrain = [\" \".join(word_tokenize(sent)) for sent in list(train_df['text'])]\n",
    "        ytrain = list(train_df['label'])\n",
    "        xvalid = [\" \".join(word_tokenize(sent)) for sent in list(valid_df['text'])]\n",
    "        yvalid = list(valid_df['label'])\n",
    "        xtest = [\" \".join(word_tokenize(sent)) for sent in list(test_df['text'])]\n",
    "        ytest = list(test_df['label'])\n",
    "\n",
    "        data[lang] = {\n",
    "            \"train\": (xtrain, ytrain),\n",
    "            \"valid\": (xvalid, yvalid),\n",
    "            \"test\": (xtest, ytest)\n",
    "        }\n",
    "    \n",
    "    return data"
   ]
  },
  {
   "cell_type": "code",
   "execution_count": 62,
   "metadata": {},
   "outputs": [],
   "source": [
    "# # test and print\n",
    "# mt_data = load_mt_data()\n",
    "# sentiment_data = load_sentiment_data()\n",
    "\n",
    "# print(\"Machine Translation Data:\")\n",
    "# print(mt_data)\n",
    "# print(\"\\nSentiment Analysis Data:\")\n",
    "# print(sentiment_data)"
   ]
  }
 ],
 "metadata": {
  "kernelspec": {
   "display_name": ".venv",
   "language": "python",
   "name": "python3"
  },
  "language_info": {
   "codemirror_mode": {
    "name": "ipython",
    "version": 3
   },
   "file_extension": ".py",
   "mimetype": "text/x-python",
   "name": "python",
   "nbconvert_exporter": "python",
   "pygments_lexer": "ipython3",
   "version": "3.10.11"
  }
 },
 "nbformat": 4,
 "nbformat_minor": 2
}
