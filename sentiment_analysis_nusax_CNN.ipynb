{
 "cells": [
  {
   "cell_type": "code",
   "execution_count": 1,
   "metadata": {},
   "outputs": [
    {
     "name": "stderr",
     "output_type": "stream",
     "text": [
      "C:\\Users\\DeemoJ\\AppData\\Roaming\\Python\\Python39\\site-packages\\pandas\\core\\computation\\expressions.py:21: UserWarning: Pandas requires version '2.8.4' or newer of 'numexpr' (version '2.8.3' currently installed).\n",
      "  from pandas.core.computation.check import NUMEXPR_INSTALLED\n",
      "C:\\Users\\DeemoJ\\AppData\\Roaming\\Python\\Python39\\site-packages\\pandas\\core\\arrays\\masked.py:60: UserWarning: Pandas requires version '1.3.6' or newer of 'bottleneck' (version '1.3.5' currently installed).\n",
      "  from pandas.core import (\n",
      "d:\\Anaconda3\\lib\\site-packages\\scipy\\__init__.py:155: UserWarning: A NumPy version >=1.18.5 and <1.25.0 is required for this version of SciPy (detected version 1.26.4\n",
      "  warnings.warn(f\"A NumPy version >={np_minversion} and <{np_maxversion}\"\n",
      "[nltk_data] Downloading package punkt to\n",
      "[nltk_data]     C:\\Users\\DeemoJ\\AppData\\Roaming\\nltk_data...\n",
      "[nltk_data]   Package punkt is already up-to-date!\n"
     ]
    },
    {
     "data": {
      "text/plain": [
       "True"
      ]
     },
     "execution_count": 1,
     "metadata": {},
     "output_type": "execute_result"
    }
   ],
   "source": [
    "import pandas as pd\n",
    "from nltk import word_tokenize\n",
    "import nltk\n",
    "nltk.download('punkt')"
   ]
  },
  {
   "cell_type": "markdown",
   "metadata": {},
   "source": [
    "# Data loading for Sentiment Analysis Task"
   ]
  },
  {
   "cell_type": "code",
   "execution_count": 2,
   "metadata": {},
   "outputs": [],
   "source": [
    "def load_sentiment_data(directory=\"nusax/datasets/sentiment/\"):\n",
    "    \"\"\"\n",
    "    Load sentiment analysis data from NusaX dataset.\n",
    "    Returns training, validation, and testing data along with labels for each language.\n",
    "    \n",
    "    Returns:\n",
    "    dict: A dictionary with language keys ('indonesian', 'english', 'javanese').\n",
    "            Each key contains another dictionary with keys 'train', 'valid', and 'test'.\n",
    "            Each of these keys maps to a tuple of (tokenized_data, original_data), where:\n",
    "                - tokenized_data: List of tokenized sentences in the corresponding language.\n",
    "                - original_data: List of original sentences(in other words, not tokenized) in the corresponding language.\n",
    "    \n",
    "    Example usage:\n",
    "        sentiment_data = load_sentiment_data()\n",
    "        english_train_data = sentiment_data['english']['train']\n",
    "        indonesian_valid_data = sentiment_data['indonesian']['valid']\n",
    "        javanese_test_data = sentiment_data['javanese']['test']\n",
    "    \"\"\"\n",
    "    languages = [\"indonesian\", \"english\", \"javanese\"]\n",
    "    data = {}\n",
    "\n",
    "    for lang in languages:\n",
    "        lang_directory = directory + lang + \"/\"\n",
    "        train_df = pd.read_csv(lang_directory + \"train.csv\")\n",
    "        valid_df = pd.read_csv(lang_directory + \"valid.csv\")\n",
    "        test_df = pd.read_csv(lang_directory + \"test.csv\")\n",
    "\n",
    "        xtrain = [\" \".join(word_tokenize(sent)) for sent in list(train_df['text'])]\n",
    "        ytrain = list(train_df['label'])\n",
    "        xvalid = [\" \".join(word_tokenize(sent)) for sent in list(valid_df['text'])]\n",
    "        yvalid = list(valid_df['label'])\n",
    "        xtest = [\" \".join(word_tokenize(sent)) for sent in list(test_df['text'])]\n",
    "        ytest = list(test_df['label'])\n",
    "\n",
    "        data[lang] = {\n",
    "            \"train\": (xtrain, ytrain),\n",
    "            \"valid\": (xvalid, yvalid),\n",
    "            \"test\": (xtest, ytest)\n",
    "        }\n",
    "    \n",
    "    return data"
   ]
  },
  {
   "cell_type": "code",
   "execution_count": null,
   "metadata": {},
   "outputs": [],
   "source": [
    "# test the dataloading and print\n",
    "sentiment_data = load_sentiment_data()\n",
    "\n",
    "print(\"Sentiment Analysis Data:\")\n",
    "print(sentiment_data['indonesian'][:3])"
   ]
  },
  {
   "cell_type": "markdown",
   "metadata": {},
   "source": [
    "# 1. CNN\n",
    "## 1.1 Import Necessary Libraries"
   ]
  },
  {
   "cell_type": "code",
   "execution_count": null,
   "metadata": {},
   "outputs": [
    {
     "name": "stderr",
     "output_type": "stream",
     "text": [
      "[nltk_data] Downloading package punkt to\n",
      "[nltk_data]     C:\\Users\\DeemoJ\\AppData\\Roaming\\nltk_data...\n",
      "[nltk_data]   Package punkt is already up-to-date!\n"
     ]
    }
   ],
   "source": [
    "import pandas as pd\n",
    "import numpy as np\n",
    "from nltk import word_tokenize\n",
    "import nltk\n",
    "nltk.download('punkt')\n",
    "\n",
    "from keras.preprocessing.text import Tokenizer\n",
    "from tensorflow.keras.preprocessing.sequence import pad_sequences\n",
    "from keras.utils import to_categorical\n",
    "\n",
    "from keras.models import Sequential, Model\n",
    "from keras.layers import Embedding, Conv1D, MaxPooling1D, GlobalMaxPooling1D, Dense, Dropout, BatchNormalization\n",
    "from keras.layers import Input, Flatten, Concatenate\n",
    "from keras.regularizers import l2\n",
    "from keras.callbacks import ModelCheckpoint\n",
    "\n",
    "from sklearn.preprocessing import LabelEncoder\n",
    "from sklearn.metrics import classification_report, confusion_matrix\n",
    "\n",
    "import seaborn as sns\n",
    "import matplotlib.pyplot as plt\n"
   ]
  },
  {
   "cell_type": "markdown",
   "metadata": {},
   "source": [
    "## 1.2 Load and Prepare the Data"
   ]
  },
  {
   "cell_type": "code",
   "execution_count": 5,
   "metadata": {},
   "outputs": [],
   "source": [
    "# Load the sentiment analysis data\n",
    "sentiment_data = load_sentiment_data()\n",
    "\n",
    "# Extract Indonesian data\n",
    "indonesian_train = sentiment_data['indonesian']['train']\n",
    "x_train_texts, y_train = indonesian_train\n",
    "\n",
    "indonesian_valid = sentiment_data['indonesian']['valid']\n",
    "x_valid_texts, y_valid = indonesian_valid\n",
    "\n",
    "indonesian_test = sentiment_data['indonesian']['test']\n",
    "x_test_texts, y_test = indonesian_test\n"
   ]
  },
  {
   "cell_type": "markdown",
   "metadata": {},
   "source": [
    "Tokenization and Vocabulary Building"
   ]
  },
  {
   "cell_type": "code",
   "execution_count": 6,
   "metadata": {},
   "outputs": [],
   "source": [
    "# Initialize the tokenizer\n",
    "tokenizer = Tokenizer()\n",
    "tokenizer.fit_on_texts(x_train_texts)\n",
    "\n",
    "# Convert texts to sequences of integers\n",
    "x_train_seq = tokenizer.texts_to_sequences(x_train_texts)\n",
    "x_valid_seq = tokenizer.texts_to_sequences(x_valid_texts)\n",
    "x_test_seq = tokenizer.texts_to_sequences(x_test_texts)\n"
   ]
  },
  {
   "cell_type": "markdown",
   "metadata": {},
   "source": [
    "Analyze Sentence Length Distributio"
   ]
  },
  {
   "cell_type": "code",
   "execution_count": 37,
   "metadata": {},
   "outputs": [
    {
     "data": {
      "image/png": "[encoded data removed]",
      "text/plain": [
       "<Figure size 640x480 with 1 Axes>"
      ]
     },
     "metadata": {},
     "output_type": "display_data"
    },
    {
     "name": "stdout",
     "output_type": "stream",
     "text": [
      "Maximum sequence length: 77\n",
      "Average sequence length: 21.482\n",
      "Median sequence length: 18.0\n",
      "95th percentile: 51.0\n"
     ]
    }
   ],
   "source": [
    "import matplotlib.pyplot as plt\n",
    "import numpy as np\n",
    "\n",
    "# Combine all sequences from training, validation, and test sets\n",
    "all_sequences = x_train_seq + x_valid_seq + x_test_seq\n",
    "\n",
    "# Calculate the length of each sequence\n",
    "sequence_lengths = [len(seq) for seq in all_sequences]\n",
    "\n",
    "# Plot the histogram of sequence lengths\n",
    "plt.hist(sequence_lengths, bins=50)\n",
    "plt.xlabel('Sequence Length')\n",
    "plt.ylabel('Number of Samples')\n",
    "plt.title('Distribution of Sequence Lengths')\n",
    "plt.show()\n",
    "\n",
    "# Print statistics\n",
    "print('Maximum sequence length:', np.max(sequence_lengths))\n",
    "print('Average sequence length:', np.mean(sequence_lengths))\n",
    "print('Median sequence length:', np.median(sequence_lengths))\n",
    "print('95th percentile:', np.percentile(sequence_lengths, 95))\n"
   ]
  },
  {
   "cell_type": "markdown",
   "metadata": {},
   "source": [
    "Padding Sequences"
   ]
  },
  {
   "cell_type": "code",
   "execution_count": 85,
   "metadata": {},
   "outputs": [],
   "source": [
    "# Define maximum sequence length\n",
    "MAX_SEQUENCE_LENGTH = 60\n",
    "\n",
    "# Pad sequences with zeros\n",
    "x_train_padded = pad_sequences(x_train_seq, maxlen=MAX_SEQUENCE_LENGTH)\n",
    "x_valid_padded = pad_sequences(x_valid_seq, maxlen=MAX_SEQUENCE_LENGTH)\n",
    "x_test_padded = pad_sequences(x_test_seq, maxlen=MAX_SEQUENCE_LENGTH)\n"
   ]
  },
  {
   "cell_type": "markdown",
   "metadata": {},
   "source": [
    "Encoding Labels"
   ]
  },
  {
   "cell_type": "code",
   "execution_count": 86,
   "metadata": {},
   "outputs": [],
   "source": [
    "# Encode labels to integers\n",
    "label_encoder = LabelEncoder()\n",
    "y_train_encoded = label_encoder.fit_transform(y_train)\n",
    "y_valid_encoded = label_encoder.transform(y_valid)\n",
    "y_test_encoded = label_encoder.transform(y_test)\n",
    "\n",
    "# Convert labels to categorical (one-hot encoding)\n",
    "num_classes = len(np.unique(y_train_encoded))\n",
    "y_train_categorical = to_categorical(y_train_encoded, num_classes=num_classes)\n",
    "y_valid_categorical = to_categorical(y_valid_encoded, num_classes=num_classes)\n",
    "y_test_categorical = to_categorical(y_test_encoded, num_classes=num_classes)\n"
   ]
  },
  {
   "cell_type": "markdown",
   "metadata": {},
   "source": [
    "## 1.3 Build-Train-Evaluate the CNN Model"
   ]
  },
  {
   "cell_type": "code",
   "execution_count": null,
   "metadata": {},
   "outputs": [],
   "source": [
    "# import numpy as np\n",
    "# from keras.models import Model\n",
    "# from keras.layers import Input, Embedding, Conv1D, GlobalMaxPooling1D, concatenate\n",
    "# from keras.layers import Dense, Dropout\n",
    "# from keras.callbacks import EarlyStopping, ModelCheckpoint\n",
    "\n",
    "# Vocabulary size and embedding dimension\n",
    "vocab_size = len(tokenizer.word_index) + 1  # Adding 1 for reserved index\n",
    "embedding_dim = 200\n",
    "\n",
    "# 输入层\n",
    "input_layer = Input(shape=(MAX_SEQUENCE_LENGTH,))\n",
    "\n",
    "# 嵌入层\n",
    "embedding_layer = Embedding(input_dim=vocab_size,\n",
    "                            output_dim=embedding_dim, \n",
    "                            input_length=MAX_SEQUENCE_LENGTH, \n",
    "                            trainable=True)(input_layer)\n",
    "\n",
    "# 卷积核大小列表，捕捉不同 n-gram 特征\n",
    "filter_sizes = [3, 4, 5]\n",
    "num_filters = 100\n",
    "\n",
    "# 卷积和池化层\n",
    "conv_blocks = []\n",
    "for size in filter_sizes:\n",
    "    conv = Conv1D(filters=num_filters,\n",
    "                  kernel_size=size,\n",
    "                  activation='relu',\n",
    "                  padding='valid')(embedding_layer)\n",
    "    conv = GlobalMaxPooling1D()(conv)\n",
    "    conv_blocks.append(conv)\n",
    "\n",
    "# 拼接所有卷积通道的输出\n",
    "concat_layer = concatenate(conv_blocks, axis=1)\n",
    "\n",
    "# 添加 Dropout 防止过拟合\n",
    "dropout_layer = Dropout(0.5)(concat_layer)\n",
    "\n",
    "# 全连接层\n",
    "dense_layer = Dense(100, activation='relu')(dropout_layer)\n",
    "\n",
    "# 输出层\n",
    "output_layer = Dense(num_classes, activation='softmax')(dense_layer)\n",
    "\n",
    "# 构建模型\n",
    "model = Model(inputs=input_layer, outputs=output_layer)"
   ]
  },
  {
   "cell_type": "code",
   "execution_count": 132,
   "metadata": {},
   "outputs": [
    {
     "name": "stdout",
     "output_type": "stream",
     "text": [
      "Model: \"model_20\"\n",
      "__________________________________________________________________________________________________\n",
      " Layer (type)                   Output Shape         Param #     Connected to                     \n",
      "==================================================================================================\n",
      " input_22 (InputLayer)          [(None, 60)]         0           []                               \n",
      "                                                                                                  \n",
      " embedding_20 (Embedding)       (None, 60, 200)      559000      ['input_22[0][0]']               \n",
      "                                                                                                  \n",
      " conv1d_60 (Conv1D)             (None, 58, 100)      60100       ['embedding_20[0][0]']           \n",
      "                                                                                                  \n",
      " conv1d_61 (Conv1D)             (None, 57, 100)      80100       ['embedding_20[0][0]']           \n",
      "                                                                                                  \n",
      " conv1d_62 (Conv1D)             (None, 56, 100)      100100      ['embedding_20[0][0]']           \n",
      "                                                                                                  \n",
      " global_max_pooling1d_60 (Globa  (None, 100)         0           ['conv1d_60[0][0]']              \n",
      " lMaxPooling1D)                                                                                   \n",
      "                                                                                                  \n",
      " global_max_pooling1d_61 (Globa  (None, 100)         0           ['conv1d_61[0][0]']              \n",
      " lMaxPooling1D)                                                                                   \n",
      "                                                                                                  \n",
      " global_max_pooling1d_62 (Globa  (None, 100)         0           ['conv1d_62[0][0]']              \n",
      " lMaxPooling1D)                                                                                   \n",
      "                                                                                                  \n",
      " concatenate_20 (Concatenate)   (None, 300)          0           ['global_max_pooling1d_60[0][0]',\n",
      "                                                                  'global_max_pooling1d_61[0][0]',\n",
      "                                                                  'global_max_pooling1d_62[0][0]']\n",
      "                                                                                                  \n",
      " dropout_21 (Dropout)           (None, 300)          0           ['concatenate_20[0][0]']         \n",
      "                                                                                                  \n",
      " dense_40 (Dense)               (None, 100)          30100       ['dropout_21[0][0]']             \n",
      "                                                                                                  \n",
      " dense_41 (Dense)               (None, 3)            303         ['dense_40[0][0]']               \n",
      "                                                                                                  \n",
      "==================================================================================================\n",
      "Total params: 829,703\n",
      "Trainable params: 829,703\n",
      "Non-trainable params: 0\n",
      "__________________________________________________________________________________________________\n"
     ]
    }
   ],
   "source": [
    "# Compile the model\n",
    "from keras.optimizers import Adam\n",
    "optimizer = Adam(learning_rate=1e-4)\n",
    "model.compile(loss='categorical_crossentropy', optimizer = optimizer, metrics=['accuracy'])\n",
    "\n",
    "# Print model summary\n",
    "model.summary()\n",
    "\n",
    "# 设置回调函数\n",
    "model_checkpoint = ModelCheckpoint('best_cnn_model.h5', monitor='val_loss', save_best_only=True)\n"
   ]
  },
  {
   "cell_type": "markdown",
   "metadata": {},
   "source": [
    "Train the model"
   ]
  },
  {
   "cell_type": "code",
   "execution_count": 133,
   "metadata": {},
   "outputs": [
    {
     "name": "stdout",
     "output_type": "stream",
     "text": [
      "Epoch 1/100\n",
      "8/8 [==============================] - 2s 84ms/step - loss: 1.0952 - accuracy: 0.3700 - val_loss: 1.0865 - val_accuracy: 0.3800\n",
      "Epoch 2/100\n",
      "8/8 [==============================] - 0s 58ms/step - loss: 1.0768 - accuracy: 0.4060 - val_loss: 1.0757 - val_accuracy: 0.3800\n",
      "Epoch 3/100\n",
      "8/8 [==============================] - 0s 59ms/step - loss: 1.0681 - accuracy: 0.4280 - val_loss: 1.0675 - val_accuracy: 0.3900\n",
      "Epoch 4/100\n",
      "8/8 [==============================] - 0s 59ms/step - loss: 1.0536 - accuracy: 0.4200 - val_loss: 1.0610 - val_accuracy: 0.4000\n",
      "Epoch 5/100\n",
      "8/8 [==============================] - 0s 63ms/step - loss: 1.0407 - accuracy: 0.4580 - val_loss: 1.0553 - val_accuracy: 0.4100\n",
      "Epoch 6/100\n",
      "8/8 [==============================] - 0s 60ms/step - loss: 1.0265 - accuracy: 0.5200 - val_loss: 1.0501 - val_accuracy: 0.4200\n",
      "Epoch 7/100\n",
      "8/8 [==============================] - 0s 62ms/step - loss: 1.0207 - accuracy: 0.5120 - val_loss: 1.0455 - val_accuracy: 0.4300\n",
      "Epoch 8/100\n",
      "8/8 [==============================] - 0s 61ms/step - loss: 1.0118 - accuracy: 0.5560 - val_loss: 1.0410 - val_accuracy: 0.4700\n",
      "Epoch 9/100\n",
      "8/8 [==============================] - 0s 61ms/step - loss: 1.0024 - accuracy: 0.5640 - val_loss: 1.0364 - val_accuracy: 0.4900\n",
      "Epoch 10/100\n",
      "8/8 [==============================] - 0s 63ms/step - loss: 0.9930 - accuracy: 0.5720 - val_loss: 1.0313 - val_accuracy: 0.5100\n",
      "Epoch 11/100\n",
      "8/8 [==============================] - 0s 59ms/step - loss: 0.9754 - accuracy: 0.6100 - val_loss: 1.0259 - val_accuracy: 0.5200\n",
      "Epoch 12/100\n",
      "8/8 [==============================] - 0s 60ms/step - loss: 0.9668 - accuracy: 0.6200 - val_loss: 1.0200 - val_accuracy: 0.5300\n",
      "Epoch 13/100\n",
      "8/8 [==============================] - 0s 59ms/step - loss: 0.9512 - accuracy: 0.6280 - val_loss: 1.0139 - val_accuracy: 0.5700\n",
      "Epoch 14/100\n",
      "8/8 [==============================] - 0s 61ms/step - loss: 0.9342 - accuracy: 0.6900 - val_loss: 1.0074 - val_accuracy: 0.5900\n",
      "Epoch 15/100\n",
      "8/8 [==============================] - 1s 67ms/step - loss: 0.9213 - accuracy: 0.6860 - val_loss: 1.0004 - val_accuracy: 0.6000\n",
      "Epoch 16/100\n",
      "8/8 [==============================] - 0s 64ms/step - loss: 0.8997 - accuracy: 0.6900 - val_loss: 0.9928 - val_accuracy: 0.6100\n",
      "Epoch 17/100\n",
      "8/8 [==============================] - 0s 64ms/step - loss: 0.8873 - accuracy: 0.7000 - val_loss: 0.9841 - val_accuracy: 0.6200\n",
      "Epoch 18/100\n",
      "8/8 [==============================] - 0s 62ms/step - loss: 0.8650 - accuracy: 0.7120 - val_loss: 0.9754 - val_accuracy: 0.6300\n",
      "Epoch 19/100\n",
      "8/8 [==============================] - 1s 73ms/step - loss: 0.8498 - accuracy: 0.7300 - val_loss: 0.9657 - val_accuracy: 0.6300\n",
      "Epoch 20/100\n",
      "8/8 [==============================] - 0s 64ms/step - loss: 0.8275 - accuracy: 0.7360 - val_loss: 0.9549 - val_accuracy: 0.6400\n",
      "Epoch 21/100\n",
      "8/8 [==============================] - 1s 67ms/step - loss: 0.7929 - accuracy: 0.7700 - val_loss: 0.9437 - val_accuracy: 0.6600\n",
      "Epoch 22/100\n",
      "8/8 [==============================] - 0s 58ms/step - loss: 0.7795 - accuracy: 0.7880 - val_loss: 0.9316 - val_accuracy: 0.6600\n",
      "Epoch 23/100\n",
      "8/8 [==============================] - 0s 61ms/step - loss: 0.7497 - accuracy: 0.7940 - val_loss: 0.9188 - val_accuracy: 0.6700\n",
      "Epoch 24/100\n",
      "8/8 [==============================] - 0s 62ms/step - loss: 0.7313 - accuracy: 0.7920 - val_loss: 0.9064 - val_accuracy: 0.6700\n",
      "Epoch 25/100\n",
      "8/8 [==============================] - 0s 60ms/step - loss: 0.6997 - accuracy: 0.8380 - val_loss: 0.8924 - val_accuracy: 0.6700\n",
      "Epoch 26/100\n",
      "8/8 [==============================] - 0s 64ms/step - loss: 0.6670 - accuracy: 0.8480 - val_loss: 0.8784 - val_accuracy: 0.6800\n",
      "Epoch 27/100\n",
      "8/8 [==============================] - 0s 59ms/step - loss: 0.6451 - accuracy: 0.8840 - val_loss: 0.8640 - val_accuracy: 0.6800\n",
      "Epoch 28/100\n",
      "8/8 [==============================] - 0s 63ms/step - loss: 0.6273 - accuracy: 0.8780 - val_loss: 0.8480 - val_accuracy: 0.6700\n",
      "Epoch 29/100\n",
      "8/8 [==============================] - 1s 73ms/step - loss: 0.5975 - accuracy: 0.8920 - val_loss: 0.8331 - val_accuracy: 0.6700\n",
      "Epoch 30/100\n",
      "8/8 [==============================] - 0s 61ms/step - loss: 0.5593 - accuracy: 0.9120 - val_loss: 0.8183 - val_accuracy: 0.6700\n",
      "Epoch 31/100\n",
      "8/8 [==============================] - 0s 61ms/step - loss: 0.5399 - accuracy: 0.9140 - val_loss: 0.8036 - val_accuracy: 0.6500\n",
      "Epoch 32/100\n",
      "8/8 [==============================] - 0s 59ms/step - loss: 0.5154 - accuracy: 0.9220 - val_loss: 0.7894 - val_accuracy: 0.6800\n",
      "Epoch 33/100\n",
      "8/8 [==============================] - 0s 58ms/step - loss: 0.4748 - accuracy: 0.9400 - val_loss: 0.7753 - val_accuracy: 0.6800\n",
      "Epoch 34/100\n",
      "8/8 [==============================] - 0s 59ms/step - loss: 0.4507 - accuracy: 0.9560 - val_loss: 0.7612 - val_accuracy: 0.6800\n",
      "Epoch 35/100\n",
      "8/8 [==============================] - 0s 58ms/step - loss: 0.4269 - accuracy: 0.9460 - val_loss: 0.7481 - val_accuracy: 0.6800\n",
      "Epoch 36/100\n",
      "8/8 [==============================] - 0s 59ms/step - loss: 0.4034 - accuracy: 0.9420 - val_loss: 0.7361 - val_accuracy: 0.6800\n",
      "Epoch 37/100\n",
      "8/8 [==============================] - 0s 57ms/step - loss: 0.3818 - accuracy: 0.9480 - val_loss: 0.7233 - val_accuracy: 0.6900\n",
      "Epoch 38/100\n",
      "8/8 [==============================] - 0s 62ms/step - loss: 0.3499 - accuracy: 0.9620 - val_loss: 0.7114 - val_accuracy: 0.7100\n",
      "Epoch 39/100\n",
      "8/8 [==============================] - 0s 57ms/step - loss: 0.3282 - accuracy: 0.9620 - val_loss: 0.6992 - val_accuracy: 0.7300\n",
      "Epoch 40/100\n",
      "8/8 [==============================] - 0s 58ms/step - loss: 0.3178 - accuracy: 0.9620 - val_loss: 0.6882 - val_accuracy: 0.7300\n",
      "Epoch 41/100\n",
      "8/8 [==============================] - 0s 57ms/step - loss: 0.2890 - accuracy: 0.9800 - val_loss: 0.6777 - val_accuracy: 0.7300\n",
      "Epoch 42/100\n",
      "8/8 [==============================] - 0s 58ms/step - loss: 0.2811 - accuracy: 0.9720 - val_loss: 0.6685 - val_accuracy: 0.7300\n",
      "Epoch 43/100\n",
      "8/8 [==============================] - 1s 64ms/step - loss: 0.2612 - accuracy: 0.9740 - val_loss: 0.6593 - val_accuracy: 0.7300\n",
      "Epoch 44/100\n",
      "8/8 [==============================] - 0s 64ms/step - loss: 0.2504 - accuracy: 0.9760 - val_loss: 0.6501 - val_accuracy: 0.7400\n",
      "Epoch 45/100\n",
      "8/8 [==============================] - 1s 65ms/step - loss: 0.2169 - accuracy: 0.9900 - val_loss: 0.6419 - val_accuracy: 0.7400\n",
      "Epoch 46/100\n",
      "8/8 [==============================] - 1s 65ms/step - loss: 0.2081 - accuracy: 0.9820 - val_loss: 0.6342 - val_accuracy: 0.7400\n",
      "Epoch 47/100\n",
      "8/8 [==============================] - 0s 63ms/step - loss: 0.1962 - accuracy: 0.9820 - val_loss: 0.6269 - val_accuracy: 0.7400\n",
      "Epoch 48/100\n",
      "8/8 [==============================] - 0s 64ms/step - loss: 0.1830 - accuracy: 0.9860 - val_loss: 0.6202 - val_accuracy: 0.7400\n",
      "Epoch 49/100\n",
      "8/8 [==============================] - 0s 63ms/step - loss: 0.1664 - accuracy: 0.9960 - val_loss: 0.6135 - val_accuracy: 0.7400\n",
      "Epoch 50/100\n",
      "8/8 [==============================] - 0s 64ms/step - loss: 0.1622 - accuracy: 0.9920 - val_loss: 0.6074 - val_accuracy: 0.7400\n",
      "Epoch 51/100\n",
      "8/8 [==============================] - 0s 59ms/step - loss: 0.1477 - accuracy: 0.9900 - val_loss: 0.6019 - val_accuracy: 0.7500\n",
      "Epoch 52/100\n",
      "8/8 [==============================] - 0s 59ms/step - loss: 0.1382 - accuracy: 0.9920 - val_loss: 0.5963 - val_accuracy: 0.7500\n",
      "Epoch 53/100\n",
      "8/8 [==============================] - 0s 58ms/step - loss: 0.1278 - accuracy: 0.9920 - val_loss: 0.5914 - val_accuracy: 0.7500\n",
      "Epoch 54/100\n",
      "8/8 [==============================] - 0s 63ms/step - loss: 0.1225 - accuracy: 0.9940 - val_loss: 0.5857 - val_accuracy: 0.7700\n",
      "Epoch 55/100\n",
      "8/8 [==============================] - 1s 71ms/step - loss: 0.1036 - accuracy: 0.9980 - val_loss: 0.5816 - val_accuracy: 0.7600\n",
      "Epoch 56/100\n",
      "8/8 [==============================] - 0s 64ms/step - loss: 0.1070 - accuracy: 0.9940 - val_loss: 0.5768 - val_accuracy: 0.7700\n",
      "Epoch 57/100\n",
      "8/8 [==============================] - 1s 67ms/step - loss: 0.0966 - accuracy: 1.0000 - val_loss: 0.5718 - val_accuracy: 0.7800\n",
      "Epoch 58/100\n",
      "8/8 [==============================] - 1s 68ms/step - loss: 0.0884 - accuracy: 1.0000 - val_loss: 0.5691 - val_accuracy: 0.7800\n",
      "Epoch 59/100\n",
      "8/8 [==============================] - 1s 65ms/step - loss: 0.0818 - accuracy: 0.9980 - val_loss: 0.5660 - val_accuracy: 0.7800\n",
      "Epoch 60/100\n",
      "8/8 [==============================] - 0s 63ms/step - loss: 0.0812 - accuracy: 1.0000 - val_loss: 0.5629 - val_accuracy: 0.7800\n",
      "Epoch 61/100\n",
      "8/8 [==============================] - 1s 64ms/step - loss: 0.0691 - accuracy: 0.9980 - val_loss: 0.5591 - val_accuracy: 0.7800\n",
      "Epoch 62/100\n",
      "8/8 [==============================] - 0s 60ms/step - loss: 0.0680 - accuracy: 1.0000 - val_loss: 0.5564 - val_accuracy: 0.7800\n",
      "Epoch 63/100\n",
      "8/8 [==============================] - 0s 63ms/step - loss: 0.0632 - accuracy: 1.0000 - val_loss: 0.5539 - val_accuracy: 0.7700\n",
      "Epoch 64/100\n",
      "8/8 [==============================] - 0s 61ms/step - loss: 0.0643 - accuracy: 1.0000 - val_loss: 0.5522 - val_accuracy: 0.7800\n",
      "Epoch 65/100\n",
      "8/8 [==============================] - 0s 64ms/step - loss: 0.0579 - accuracy: 1.0000 - val_loss: 0.5505 - val_accuracy: 0.7800\n",
      "Epoch 66/100\n",
      "8/8 [==============================] - 1s 65ms/step - loss: 0.0562 - accuracy: 0.9980 - val_loss: 0.5495 - val_accuracy: 0.7800\n",
      "Epoch 67/100\n",
      "8/8 [==============================] - 1s 70ms/step - loss: 0.0514 - accuracy: 1.0000 - val_loss: 0.5467 - val_accuracy: 0.7700\n",
      "Epoch 68/100\n",
      "8/8 [==============================] - 0s 63ms/step - loss: 0.0476 - accuracy: 1.0000 - val_loss: 0.5452 - val_accuracy: 0.7700\n",
      "Epoch 69/100\n",
      "8/8 [==============================] - 0s 62ms/step - loss: 0.0440 - accuracy: 1.0000 - val_loss: 0.5443 - val_accuracy: 0.7800\n",
      "Epoch 70/100\n",
      "8/8 [==============================] - 1s 68ms/step - loss: 0.0427 - accuracy: 1.0000 - val_loss: 0.5432 - val_accuracy: 0.7800\n",
      "Epoch 71/100\n",
      "8/8 [==============================] - 1s 67ms/step - loss: 0.0382 - accuracy: 1.0000 - val_loss: 0.5426 - val_accuracy: 0.7800\n",
      "Epoch 72/100\n",
      "8/8 [==============================] - 1s 73ms/step - loss: 0.0374 - accuracy: 1.0000 - val_loss: 0.5419 - val_accuracy: 0.7800\n",
      "Epoch 73/100\n",
      "8/8 [==============================] - 0s 62ms/step - loss: 0.0378 - accuracy: 1.0000 - val_loss: 0.5415 - val_accuracy: 0.7800\n",
      "Epoch 74/100\n",
      "8/8 [==============================] - 0s 63ms/step - loss: 0.0387 - accuracy: 1.0000 - val_loss: 0.5405 - val_accuracy: 0.7800\n",
      "Epoch 75/100\n",
      "8/8 [==============================] - 0s 58ms/step - loss: 0.0343 - accuracy: 1.0000 - val_loss: 0.5409 - val_accuracy: 0.7800\n",
      "Epoch 76/100\n",
      "8/8 [==============================] - 1s 65ms/step - loss: 0.0342 - accuracy: 0.9980 - val_loss: 0.5402 - val_accuracy: 0.7900\n",
      "Epoch 77/100\n",
      "8/8 [==============================] - 0s 62ms/step - loss: 0.0312 - accuracy: 1.0000 - val_loss: 0.5394 - val_accuracy: 0.7900\n",
      "Epoch 78/100\n",
      "8/8 [==============================] - 0s 59ms/step - loss: 0.0300 - accuracy: 1.0000 - val_loss: 0.5388 - val_accuracy: 0.7900\n",
      "Epoch 79/100\n",
      "8/8 [==============================] - 0s 52ms/step - loss: 0.0291 - accuracy: 1.0000 - val_loss: 0.5390 - val_accuracy: 0.7900\n",
      "Epoch 80/100\n",
      "8/8 [==============================] - 1s 71ms/step - loss: 0.0254 - accuracy: 1.0000 - val_loss: 0.5389 - val_accuracy: 0.7900\n",
      "Epoch 81/100\n",
      "8/8 [==============================] - 1s 72ms/step - loss: 0.0266 - accuracy: 1.0000 - val_loss: 0.5386 - val_accuracy: 0.7900\n",
      "Epoch 82/100\n",
      "8/8 [==============================] - 0s 59ms/step - loss: 0.0230 - accuracy: 1.0000 - val_loss: 0.5375 - val_accuracy: 0.7900\n",
      "Epoch 83/100\n",
      "8/8 [==============================] - 1s 65ms/step - loss: 0.0234 - accuracy: 1.0000 - val_loss: 0.5369 - val_accuracy: 0.7900\n",
      "Epoch 84/100\n",
      "8/8 [==============================] - 0s 62ms/step - loss: 0.0243 - accuracy: 1.0000 - val_loss: 0.5366 - val_accuracy: 0.7800\n",
      "Epoch 85/100\n",
      "8/8 [==============================] - 0s 54ms/step - loss: 0.0232 - accuracy: 1.0000 - val_loss: 0.5367 - val_accuracy: 0.7800\n",
      "Epoch 86/100\n",
      "8/8 [==============================] - 1s 65ms/step - loss: 0.0242 - accuracy: 1.0000 - val_loss: 0.5368 - val_accuracy: 0.7900\n",
      "Epoch 87/100\n",
      "8/8 [==============================] - 1s 65ms/step - loss: 0.0199 - accuracy: 1.0000 - val_loss: 0.5358 - val_accuracy: 0.7900\n",
      "Epoch 88/100\n",
      "8/8 [==============================] - 0s 63ms/step - loss: 0.0191 - accuracy: 1.0000 - val_loss: 0.5356 - val_accuracy: 0.7900\n",
      "Epoch 89/100\n",
      "8/8 [==============================] - 0s 56ms/step - loss: 0.0200 - accuracy: 1.0000 - val_loss: 0.5357 - val_accuracy: 0.7900\n",
      "Epoch 90/100\n",
      "8/8 [==============================] - 0s 63ms/step - loss: 0.0177 - accuracy: 1.0000 - val_loss: 0.5347 - val_accuracy: 0.7900\n",
      "Epoch 91/100\n",
      "8/8 [==============================] - 0s 60ms/step - loss: 0.0193 - accuracy: 1.0000 - val_loss: 0.5341 - val_accuracy: 0.7900\n",
      "Epoch 92/100\n",
      "8/8 [==============================] - 0s 56ms/step - loss: 0.0181 - accuracy: 1.0000 - val_loss: 0.5346 - val_accuracy: 0.7900\n",
      "Epoch 93/100\n",
      "8/8 [==============================] - 0s 57ms/step - loss: 0.0182 - accuracy: 1.0000 - val_loss: 0.5358 - val_accuracy: 0.7900\n",
      "Epoch 94/100\n",
      "8/8 [==============================] - 0s 54ms/step - loss: 0.0168 - accuracy: 1.0000 - val_loss: 0.5368 - val_accuracy: 0.7900\n",
      "Epoch 95/100\n",
      "8/8 [==============================] - 0s 58ms/step - loss: 0.0191 - accuracy: 0.9980 - val_loss: 0.5363 - val_accuracy: 0.7900\n",
      "Epoch 96/100\n",
      "8/8 [==============================] - 0s 54ms/step - loss: 0.0158 - accuracy: 1.0000 - val_loss: 0.5360 - val_accuracy: 0.7900\n",
      "Epoch 97/100\n",
      "8/8 [==============================] - 0s 55ms/step - loss: 0.0144 - accuracy: 1.0000 - val_loss: 0.5360 - val_accuracy: 0.8000\n",
      "Epoch 98/100\n",
      "8/8 [==============================] - 0s 54ms/step - loss: 0.0128 - accuracy: 1.0000 - val_loss: 0.5361 - val_accuracy: 0.8000\n",
      "Epoch 99/100\n",
      "8/8 [==============================] - 0s 58ms/step - loss: 0.0138 - accuracy: 1.0000 - val_loss: 0.5373 - val_accuracy: 0.8000\n",
      "Epoch 100/100\n",
      "8/8 [==============================] - 0s 59ms/step - loss: 0.0145 - accuracy: 1.0000 - val_loss: 0.5379 - val_accuracy: 0.8000\n"
     ]
    }
   ],
   "source": [
    "# Train the model\n",
    "history = model.fit(\n",
    "    x_train_padded, y_train_categorical,\n",
    "    batch_size=64,\n",
    "    epochs=100,\n",
    "    validation_data=(x_valid_padded, y_valid_categorical),\n",
    "    callbacks=[model_checkpoint]\n",
    ")\n"
   ]
  },
  {
   "cell_type": "markdown",
   "metadata": {},
   "source": [
    "Evaluate the Model"
   ]
  },
  {
   "cell_type": "code",
   "execution_count": null,
   "metadata": {},
   "outputs": [],
   "source": [
    "# load the best model\n",
    "model.load_weights('best_cnn_model.h5')\n",
    "# model.load_weights('best_cnn_model1.h5')"
   ]
  },
  {
   "cell_type": "code",
   "execution_count": 136,
   "metadata": {},
   "outputs": [
    {
     "name": "stdout",
     "output_type": "stream",
     "text": [
      "13/13 [==============================] - 0s 8ms/step - loss: 0.5794 - accuracy: 0.7825\n",
      "Test Accuracy: 0.7825000286102295\n"
     ]
    }
   ],
   "source": [
    "# Evaluate on test data\n",
    "test_loss, test_acc = model.evaluate(x_test_padded, y_test_categorical)\n",
    "print('Test Accuracy:', test_acc)\n"
   ]
  },
  {
   "cell_type": "code",
   "execution_count": 137,
   "metadata": {},
   "outputs": [
    {
     "name": "stdout",
     "output_type": "stream",
     "text": [
      "13/13 [==============================] - 0s 9ms/step\n",
      "Classification Report:\n",
      "              precision    recall  f1-score   support\n",
      "\n",
      "    negative       0.74      0.78      0.76       153\n",
      "     neutral       0.70      0.67      0.68        96\n",
      "    positive       0.87      0.86      0.87       151\n",
      "\n",
      "    accuracy                           0.78       400\n",
      "   macro avg       0.77      0.77      0.77       400\n",
      "weighted avg       0.78      0.78      0.78       400\n",
      "\n"
     ]
    }
   ],
   "source": [
    "# Predictions\n",
    "y_pred_probs = model.predict(x_test_padded)\n",
    "y_pred = np.argmax(y_pred_probs, axis=1)\n",
    "\n",
    "# Classification report\n",
    "print('Classification Report:')\n",
    "print(classification_report(y_test_encoded, y_pred, target_names=label_encoder.classes_))\n",
    "\n",
    "# Confusion matrix\n",
    "conf_mat = confusion_matrix(y_test_encoded, y_pred)\n"
   ]
  },
  {
   "cell_type": "code",
   "execution_count": 138,
   "metadata": {},
   "outputs": [
    {
     "data": {
      "image/png": "[encoded data removed]",
      "text/plain": [
       "<Figure size 640x480 with 2 Axes>"
      ]
     },
     "metadata": {},
     "output_type": "display_data"
    }
   ],
   "source": [
    "# Plot confusion matrix\n",
    "labels = label_encoder.classes_\n",
    "sns.heatmap(conf_mat, annot=True, fmt='d', xticklabels=labels, yticklabels=labels, cmap='Blues')\n",
    "plt.ylabel('Actual')\n",
    "plt.xlabel('Predicted')\n",
    "plt.title('Confusion Matrix')\n",
    "plt.show()\n"
   ]
  },
  {
   "cell_type": "markdown",
   "metadata": {},
   "source": [
    "Test with Your Own Sentences"
   ]
  },
  {
   "cell_type": "code",
   "execution_count": null,
   "metadata": {},
   "outputs": [
    {
     "name": "stdout",
     "output_type": "stream",
     "text": [
      "1/1 [==============================] - 0s 23ms/step\n",
      "Text: Saya sangat senang dengan pelayanan toko ini.\n",
      "Predicted Sentiment: positive\n",
      "\n",
      "1/1 [==============================] - 0s 29ms/step\n",
      "Text: Produk ini sangat buruk dan tidak berguna.\n",
      "Predicted Sentiment: negative\n",
      "\n",
      "1/1 [==============================] - 0s 30ms/step\n",
      "Text: Kualitasnya biasa saja, tidak terlalu bagus.\n",
      "Predicted Sentiment: negative\n",
      "\n"
     ]
    }
   ],
   "source": [
    "# Function to predict sentiment\n",
    "def predict_sentiment(text):\n",
    "    tokens = word_tokenize(text)\n",
    "    sequence = tokenizer.texts_to_sequences([\" \".join(tokens)])\n",
    "    padded_sequence = pad_sequences(sequence, maxlen=MAX_SEQUENCE_LENGTH)\n",
    "    pred_prob = model.predict(padded_sequence)\n",
    "    pred_class = np.argmax(pred_prob, axis=1)\n",
    "    sentiment = label_encoder.inverse_transform(pred_class)\n",
    "    return sentiment[0]\n",
    "\n",
    "# Test sentences\n",
    "test_texts = [\n",
    "    \"Saya sangat senang dengan pelayanan toko ini.\",  # Positive sentiment - I am very happy with the service of this store.\n",
    "    \"Produk ini sangat buruk dan tidak berguna.\",     # Negative sentiment - This product is very bad and useless.\n",
    "    \"Kualitasnya biasa saja, tidak terlalu bagus.\",   # Neutral sentiment - The quality is just okay, not too good.\n",
    "\n",
    "    \"Saya sangat senang dengan pelayanan toko ini. Produk ini sangat buruk dan tidak berguna.\",  # Mixed sentiment - I am very happy with the service of this store. This product is very bad and useless.\n",
    "    \"Produk ini sangat bagus, tetapi sayangnya harganya terlalu mahal.\",  # Mixed sentiment - This product is very good, but unfortunately the price is too expensive.\n",
    "    \n",
    "    \"Saya sangat bahagia hari ini\",  # Positive sentiment - \"I am very happy today\"\n",
    "    \"Cuaca sangat buruk\",            # Negative sentiment - \"The weather is very bad\"\n",
    "    \"Saya suka belajar bahasa\",      # Positive sentiment - \"I like learning languages\"\n",
    "    \"Ini adalah hari yang menyedihkan\" # Negative sentiment - \"This is a sad day\"\n",
    "]\n",
    "\n",
    "# Predict sentiments\n",
    "for text in test_texts:\n",
    "    sentiment = predict_sentiment(text)\n",
    "    print(f\"Text: {text}\")\n",
    "    print(f\"Predicted Sentiment: {sentiment}\")\n",
    "    print()\n"
   ]
  }
 ],
 "metadata": {
  "kernelspec": {
   "display_name": "base",
   "language": "python",
   "name": "python3"
  },
  "language_info": {
   "codemirror_mode": {
    "name": "ipython",
    "version": 3
   },
   "file_extension": ".py",
   "mimetype": "text/x-python",
   "name": "python",
   "nbconvert_exporter": "python",
   "pygments_lexer": "ipython3",
   "version": "3.9.13"
  }
 },
 "nbformat": 4,
 "nbformat_minor": 2
}
